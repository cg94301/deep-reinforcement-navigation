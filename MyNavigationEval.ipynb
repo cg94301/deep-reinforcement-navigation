{
 "cells": [
  {
   "cell_type": "code",
   "execution_count": 3,
   "metadata": {
    "collapsed": false
   },
   "outputs": [
    {
     "name": "stdout",
     "output_type": "stream",
     "text": [
      "['/Users/chrisg/miniconda3/envs/drlnd/lib/python36.zip', '/Users/chrisg/miniconda3/envs/drlnd/lib/python3.6', '/Users/chrisg/miniconda3/envs/drlnd/lib/python3.6/lib-dynload', '', '/Users/chrisg/miniconda3/envs/drlnd/lib/python3.6/site-packages', '/Users/chrisg/miniconda3/envs/drlnd/lib/python3.6/site-packages/IPython/extensions', '/Users/chrisg/.ipython', '/Users/chrisg/dev/deep-reinforcement-navigation', '/Users/chrisg/dev/deep-reinforcement-navigation']\n"
     ]
    }
   ],
   "source": [
    "import sys, os\n",
    "sys.path.append(os.getcwd())\n",
    "print(sys.path)"
   ]
  },
  {
   "cell_type": "code",
   "execution_count": 4,
   "metadata": {
    "collapsed": true
   },
   "outputs": [],
   "source": [
    "from unityagents import UnityEnvironment\n",
    "import numpy as np"
   ]
  },
  {
   "cell_type": "code",
   "execution_count": 5,
   "metadata": {
    "collapsed": false
   },
   "outputs": [
    {
     "name": "stderr",
     "output_type": "stream",
     "text": [
      "INFO:unityagents:\n",
      "'Academy' started successfully!\n",
      "Unity Academy name: Academy\n",
      "        Number of Brains: 1\n",
      "        Number of External Brains : 1\n",
      "        Lesson number : 0\n",
      "        Reset Parameters :\n",
      "\t\t\n",
      "Unity brain name: BananaBrain\n",
      "        Number of Visual Observations (per agent): 0\n",
      "        Vector Observation space type: continuous\n",
      "        Vector Observation space size (per agent): 37\n",
      "        Number of stacked Vector Observation: 1\n",
      "        Vector Action space type: discrete\n",
      "        Vector Action space size (per agent): 4\n",
      "        Vector Action descriptions: , , , \n"
     ]
    }
   ],
   "source": [
    "env = UnityEnvironment(file_name=\"Banana.app\", no_graphics=False, seed=0)"
   ]
  },
  {
   "cell_type": "code",
   "execution_count": 8,
   "metadata": {
    "collapsed": false
   },
   "outputs": [
    {
     "data": {
      "text/plain": [
       "<unityagents.brain.BrainParameters at 0x7ff7b9895c18>"
      ]
     },
     "execution_count": 8,
     "metadata": {},
     "output_type": "execute_result"
    }
   ],
   "source": [
    "# get the default brain\n",
    "brain_name = env.brain_names[0]\n",
    "brain = env.brains[brain_name]\n",
    "brain"
   ]
  },
  {
   "cell_type": "code",
   "execution_count": 9,
   "metadata": {
    "collapsed": true
   },
   "outputs": [],
   "source": [
    "env_info = env.reset(train_mode=False)[brain_name]\n",
    "action_size = brain.vector_action_space_size\n",
    "state = env_info.vector_observations[0]\n",
    "state_size = len(state)"
   ]
  },
  {
   "cell_type": "code",
   "execution_count": 10,
   "metadata": {
    "collapsed": false
   },
   "outputs": [
    {
     "data": {
      "text/plain": [
       "QNetwork(\n",
       "  (fc1): Linear(in_features=37, out_features=128, bias=True)\n",
       "  (fc2): Linear(in_features=128, out_features=64, bias=True)\n",
       "  (fc3): Linear(in_features=64, out_features=16, bias=True)\n",
       "  (fc4): Linear(in_features=16, out_features=4, bias=True)\n",
       ")"
      ]
     },
     "execution_count": 10,
     "metadata": {},
     "output_type": "execute_result"
    }
   ],
   "source": [
    "from model import QNetwork\n",
    "\n",
    "qnetwork_trial = QNetwork(state_size, action_size, 0)\n",
    "qnetwork_trial"
   ]
  },
  {
   "cell_type": "code",
   "execution_count": 11,
   "metadata": {
    "collapsed": true
   },
   "outputs": [],
   "source": [
    "from dqn_agent import Agent\n",
    "\n",
    "agent = Agent(state_size, action_size, seed=0)"
   ]
  },
  {
   "cell_type": "code",
   "execution_count": 12,
   "metadata": {
    "collapsed": false
   },
   "outputs": [
    {
     "data": {
      "text/plain": [
       "<All keys matched successfully>"
      ]
     },
     "execution_count": 12,
     "metadata": {},
     "output_type": "execute_result"
    }
   ],
   "source": [
    "import torch\n",
    "\n",
    "# load the weights from file\n",
    "agent.qnetwork_local.load_state_dict(torch.load('checkpoint_m02.pth'))"
   ]
  },
  {
   "cell_type": "raw",
   "metadata": {},
   "source": [
    "env = UnityEnvironment(file_name=\"Banana.app\", no_graphics=False)"
   ]
  },
  {
   "cell_type": "code",
   "execution_count": 13,
   "metadata": {
    "collapsed": false
   },
   "outputs": [
    {
     "data": {
      "text/plain": [
       "2"
      ]
     },
     "execution_count": 13,
     "metadata": {},
     "output_type": "execute_result"
    }
   ],
   "source": [
    "from random import randrange\n",
    "randrange(1,3)"
   ]
  },
  {
   "cell_type": "code",
   "execution_count": 14,
   "metadata": {
    "collapsed": false
   },
   "outputs": [
    {
     "name": "stdout",
     "output_type": "stream",
     "text": [
      "Score: 16.0\n",
      "Score: 17.0\n",
      "Score: 9.0\n",
      "Score: 24.0\n",
      "Score: 15.0\n",
      "Score: 17.0\n",
      "Score: 20.0\n",
      "Score: 15.0\n",
      "Score: 14.0\n",
      "Score: 22.0\n",
      "Score: 16.0\n",
      "Score: 22.0\n",
      "Score: 21.0\n",
      "Score: 17.0\n",
      "Score: 16.0\n",
      "Score: 19.0\n",
      "Score: 10.0\n",
      "Score: 18.0\n",
      "Score: 17.0\n",
      "Score: 19.0\n",
      "Score: 17.0\n",
      "Score: 16.0\n",
      "Score: 15.0\n",
      "Score: 19.0\n",
      "Score: 16.0\n",
      "Score: 17.0\n",
      "Score: 15.0\n",
      "Score: 23.0\n",
      "Score: 13.0\n",
      "Score: 16.0\n",
      "Score: 18.0\n",
      "Score: 18.0\n",
      "Score: 9.0\n",
      "Score: 16.0\n",
      "Score: 20.0\n",
      "Score: 14.0\n",
      "Score: 25.0\n",
      "Score: 18.0\n",
      "Score: 18.0\n",
      "Score: 17.0\n",
      "Score: 14.0\n",
      "Score: 16.0\n",
      "Score: 16.0\n",
      "Score: 20.0\n",
      "Score: 18.0\n",
      "Score: 17.0\n",
      "Score: 13.0\n",
      "Score: 25.0\n",
      "Score: 24.0\n",
      "Score: 13.0\n",
      "Score: 16.0\n",
      "Score: 17.0\n",
      "Score: 21.0\n",
      "Score: 26.0\n",
      "Score: 15.0\n",
      "Score: 17.0\n",
      "Score: 14.0\n",
      "Score: 18.0\n",
      "Score: 17.0\n",
      "Score: 16.0\n",
      "Score: 16.0\n",
      "Score: 19.0\n",
      "Score: 19.0\n",
      "Score: 14.0\n",
      "Score: 21.0\n",
      "Score: 21.0\n",
      "Score: 20.0\n",
      "Score: 23.0\n",
      "Score: 18.0\n",
      "Score: 13.0\n",
      "Score: 17.0\n",
      "Score: 20.0\n",
      "Score: 19.0\n",
      "Score: 22.0\n",
      "Score: 17.0\n",
      "Score: 17.0\n",
      "Score: 22.0\n",
      "Score: 16.0\n",
      "Score: 16.0\n",
      "Score: 16.0\n",
      "Score: 27.0\n",
      "Score: 21.0\n",
      "Score: 9.0\n",
      "Score: 21.0\n",
      "Score: 20.0\n",
      "Score: 19.0\n",
      "Score: 14.0\n",
      "Score: 13.0\n",
      "Score: 21.0\n",
      "Score: 20.0\n",
      "Score: 13.0\n",
      "Score: 18.0\n",
      "Score: 14.0\n",
      "Score: 19.0\n",
      "Score: 19.0\n",
      "Score: 21.0\n",
      "Score: 15.0\n",
      "Score: 21.0\n",
      "Score: 20.0\n",
      "Score: 27.0\n"
     ]
    }
   ],
   "source": [
    "step = 0\n",
    "eps = 0\n",
    "scores = []\n",
    "sequence = 10\n",
    "fifo = [0] * sequence\n",
    "fifo_0 = [0,1,2,3,4]\n",
    "fifo_1 = [0,1,2,3,4]\n",
    "fifo_2 = [0,1,2,3,4]\n",
    "fifo_3 = [0,1,2,3,4]\n",
    "f = open('agent.log','w')\n",
    "for e in range(100):\n",
    "    env_info = env.reset(train_mode=False)[brain_name] # reset the environment\n",
    "    state = env_info.vector_observations[0]            # get the current state\n",
    "    score = 0    \n",
    "    while True:\n",
    "        action = agent.act(state, eps)\n",
    "        fifo.pop(0)\n",
    "        fifo.append(action)\n",
    "        f.write('f %s \\n' % str(fifo))\n",
    "        r1 = step % 2\n",
    "        r2 = step % 4\n",
    "        if r1 == 0:\n",
    "            #print('alt', step)\n",
    "            fifo_0.pop(0)\n",
    "            fifo_0.append(action)\n",
    "        else:\n",
    "            fifo_1.pop(0)\n",
    "            fifo_1.append(action)\n",
    "        \n",
    "        if r2 == 0 or r2 == 1:\n",
    "            #print ('dual', step)\n",
    "            fifo_2.pop(0)\n",
    "            fifo_2.append(action)\n",
    "        else:\n",
    "            fifo_3.pop(0)\n",
    "            fifo_3.append(action)\n",
    "                \n",
    "            \n",
    "        f.write('f0 %s \\n' % str(fifo_0))\n",
    "        f.write('f1 %s \\n' % str(fifo_1))\n",
    "        f.write('f2 %s \\n' % str(fifo_2))\n",
    "        f.write('f3 %s \\n' % str(fifo_3))\n",
    "        \n",
    "        if fifo_0.count(fifo_0[0]) == len(fifo_0):\n",
    "            if fifo_1.count(fifo_1[0]) == len(fifo_1):\n",
    "                if fifo_0[0] != 0 or fifo_1[0] != 0:\n",
    "                    action = randrange(1,3)\n",
    "                    f.write('f0 random action %s \\n' % str(action))\n",
    "            \n",
    "        if fifo_2.count(fifo_2[0]) == len(fifo_2):\n",
    "            if fifo_3.count(fifo_3[0]) == len(fifo_3):\n",
    "                if fifo_2[0] != 0 or fifo_3[0] != 0:\n",
    "                    action = randrange(1,3)\n",
    "                    f.write('f2 random action %s \\n' %  str(action))            \n",
    "            \n",
    "        env_info = env.step(action)[brain_name]        # send the action to the environment\n",
    "        next_state = env_info.vector_observations[0]   # get the next state\n",
    "        reward = env_info.rewards[0]                   # get the reward\n",
    "        done = env_info.local_done[0]                  # see if episode has finished\n",
    "        score += reward                                # update the score\n",
    "        state = next_state\n",
    "        step += 1                                      # roll over the state to next time step\n",
    "        if done:\n",
    "            scores.append(score)                       # exit loop if episode finished\n",
    "            print(\"Score: {}\".format(score))\n",
    "            break\n",
    "\n",
    "f.close()"
   ]
  },
  {
   "cell_type": "code",
   "execution_count": 15,
   "metadata": {
    "collapsed": false
   },
   "outputs": [
    {
     "name": "stdout",
     "output_type": "stream",
     "text": [
      "average score  17.75\n"
     ]
    }
   ],
   "source": [
    "print('average score ', sum(scores)/len(scores))"
   ]
  },
  {
   "cell_type": "code",
   "execution_count": 19,
   "metadata": {
    "collapsed": false
   },
   "outputs": [
    {
     "data": {
      "image/png": "[encoded data removed]",
      "text/plain": [
       "<Figure size 432x288 with 1 Axes>"
      ]
     },
     "metadata": {
      "needs_background": "light"
     },
     "output_type": "display_data"
    }
   ],
   "source": [
    "import matplotlib.pyplot as plt\n",
    "\n",
    "# plot the scores\n",
    "fig = plt.figure()\n",
    "ax = fig.add_subplot(111)\n",
    "plt.plot(np.arange(len(scores)), scores)\n",
    "plt.ylabel('Score')\n",
    "plt.xlabel('Episode #')\n",
    "#plt.show()\n",
    "plt.savefig('navigation.png')\n",
    "plt.show()"
   ]
  },
  {
   "cell_type": "code",
   "execution_count": 13,
   "metadata": {
    "collapsed": true
   },
   "outputs": [],
   "source": [
    "env.close()"
   ]
  },
  {
   "cell_type": "code",
   "execution_count": null,
   "metadata": {
    "collapsed": true
   },
   "outputs": [],
   "source": []
  }
 ],
 "metadata": {
  "kernelspec": {
   "display_name": "drlnd",
   "language": "python",
   "name": "drlnd"
  },
  "language_info": {
   "codemirror_mode": {
    "name": "ipython",
    "version": 3
   },
   "file_extension": ".py",
   "mimetype": "text/x-python",
   "name": "python",
   "nbconvert_exporter": "python",
   "pygments_lexer": "ipython3",
   "version": "3.6.12"
  }
 },
 "nbformat": 4,
 "nbformat_minor": 2
}
